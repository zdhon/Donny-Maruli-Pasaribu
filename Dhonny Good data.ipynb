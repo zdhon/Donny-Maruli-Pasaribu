{
 "cells": [
  {
   "cell_type": "code",
   "execution_count": 4,
   "id": "4f6ef996-9f37-4681-b8f1-19e499acf5b0",
   "metadata": {},
   "outputs": [],
   "source": [
    "import pandas as pd"
   ]
  },
  {
   "cell_type": "code",
   "execution_count": 19,
   "id": "ad55696f-a09d-47e4-a47d-add005f04168",
   "metadata": {},
   "outputs": [],
   "source": [
    "data = pd.read_csv('Ice Cream.csv')"
   ]
  },
  {
   "cell_type": "code",
   "execution_count": 24,
   "id": "dcff6ffe-d3f3-44e0-bfad-82c4704e18fa",
   "metadata": {},
   "outputs": [
    {
     "data": {
      "text/html": [
       "<div>\n",
       "<style scoped>\n",
       "    .dataframe tbody tr th:only-of-type {\n",
       "        vertical-align: middle;\n",
       "    }\n",
       "\n",
       "    .dataframe tbody tr th {\n",
       "        vertical-align: top;\n",
       "    }\n",
       "\n",
       "    .dataframe thead th {\n",
       "        text-align: right;\n",
       "    }\n",
       "</style>\n",
       "<table border=\"1\" class=\"dataframe\">\n",
       "  <thead>\n",
       "    <tr style=\"text-align: right;\">\n",
       "      <th></th>\n",
       "      <th>Temperature</th>\n",
       "      <th>Revenue</th>\n",
       "    </tr>\n",
       "  </thead>\n",
       "  <tbody>\n",
       "    <tr>\n",
       "      <th>0</th>\n",
       "      <td>24.6</td>\n",
       "      <td>535</td>\n",
       "    </tr>\n",
       "    <tr>\n",
       "      <th>1</th>\n",
       "      <td>26.1</td>\n",
       "      <td>626</td>\n",
       "    </tr>\n",
       "    <tr>\n",
       "      <th>2</th>\n",
       "      <td>27.8</td>\n",
       "      <td>661</td>\n",
       "    </tr>\n",
       "    <tr>\n",
       "      <th>3</th>\n",
       "      <td>20.6</td>\n",
       "      <td>488</td>\n",
       "    </tr>\n",
       "    <tr>\n",
       "      <th>4</th>\n",
       "      <td>11.6</td>\n",
       "      <td>317</td>\n",
       "    </tr>\n",
       "  </tbody>\n",
       "</table>\n",
       "</div>"
      ],
      "text/plain": [
       "   Temperature  Revenue\n",
       "0         24.6      535\n",
       "1         26.1      626\n",
       "2         27.8      661\n",
       "3         20.6      488\n",
       "4         11.6      317"
      ]
     },
     "execution_count": 24,
     "metadata": {},
     "output_type": "execute_result"
    }
   ],
   "source": [
    "data.head()"
   ]
  },
  {
   "cell_type": "code",
   "execution_count": 29,
   "id": "dc5b192e-c3e9-4dbc-b149-5f0aa733d7c7",
   "metadata": {},
   "outputs": [],
   "source": [
    "x=data.iloc[:,:-1].values\n",
    "y=data.iloc[:,1].values"
   ]
  },
  {
   "cell_type": "code",
   "execution_count": 32,
   "id": "bd3b3d86-ad11-4d96-a21d-bfddc5aa59ea",
   "metadata": {},
   "outputs": [
    {
     "data": {
      "text/plain": [
       "array([[24.6],\n",
       "       [26.1],\n",
       "       [27.8],\n",
       "       [20.6],\n",
       "       [11.6],\n",
       "       [14.4],\n",
       "       [13.8],\n",
       "       [30.9],\n",
       "       [ 1. ],\n",
       "       [31.7],\n",
       "       [11.5],\n",
       "       [ 3.7],\n",
       "       [18.9],\n",
       "       [13.7],\n",
       "       [39.6],\n",
       "       [18.5],\n",
       "       [26. ],\n",
       "       [42.6],\n",
       "       [29.6],\n",
       "       [21.8],\n",
       "       [25.5],\n",
       "       [15.3],\n",
       "       [22.7],\n",
       "       [16.3],\n",
       "       [23.9],\n",
       "       [19. ],\n",
       "       [15.7],\n",
       "       [29.2],\n",
       "       [19.1],\n",
       "       [35.2],\n",
       "       [24.2],\n",
       "       [15.3],\n",
       "       [ 8.8],\n",
       "       [18.3],\n",
       "       [35.7],\n",
       "       [37.1],\n",
       "       [22.3],\n",
       "       [17.6],\n",
       "       [31.8],\n",
       "       [17.1],\n",
       "       [23.1],\n",
       "       [ 8.8],\n",
       "       [18.8],\n",
       "       [14.2],\n",
       "       [18.7],\n",
       "       [15.7],\n",
       "       [21. ],\n",
       "       [30.7],\n",
       "       [20.5],\n",
       "       [31.3],\n",
       "       [ 6.4],\n",
       "       [27.2],\n",
       "       [28.7],\n",
       "       [28. ],\n",
       "       [10.4],\n",
       "       [27.4],\n",
       "       [33.3],\n",
       "       [36.6],\n",
       "       [12.5],\n",
       "       [14.4],\n",
       "       [16.4],\n",
       "       [11.6],\n",
       "       [33.6],\n",
       "       [ 4. ],\n",
       "       [20.6],\n",
       "       [ 6.6],\n",
       "       [19.9],\n",
       "       [11.7],\n",
       "       [21.5],\n",
       "       [18.8],\n",
       "       [12.7],\n",
       "       [27.9],\n",
       "       [27. ],\n",
       "       [27.4],\n",
       "       [24.2],\n",
       "       [28.8],\n",
       "       [40.5],\n",
       "       [25.6],\n",
       "       [28.8],\n",
       "       [29.5],\n",
       "       [16.1],\n",
       "       [14.8],\n",
       "       [22.2],\n",
       "       [29.1],\n",
       "       [29.3],\n",
       "       [16.4],\n",
       "       [27.8],\n",
       "       [13.4],\n",
       "       [29.4],\n",
       "       [14.4],\n",
       "       [30.5],\n",
       "       [ 9.1],\n",
       "       [23.1],\n",
       "       [ 8.6],\n",
       "       [12.4],\n",
       "       [ 9.1],\n",
       "       [20.3],\n",
       "       [19.4],\n",
       "       [14.7],\n",
       "       [10. ],\n",
       "       [20. ],\n",
       "       [32.1],\n",
       "       [14.3],\n",
       "       [17.7],\n",
       "       [26.6],\n",
       "       [17.3],\n",
       "       [23.8],\n",
       "       [15.6],\n",
       "       [28.5],\n",
       "       [27.8],\n",
       "       [25.5],\n",
       "       [18.5],\n",
       "       [24.3],\n",
       "       [31.7],\n",
       "       [17.7],\n",
       "       [31.9],\n",
       "       [26. ],\n",
       "       [29.4],\n",
       "       [11.1],\n",
       "       [25.5],\n",
       "       [23. ],\n",
       "       [13. ],\n",
       "       [28.3],\n",
       "       [30.6],\n",
       "       [12.6],\n",
       "       [19.1],\n",
       "       [16. ],\n",
       "       [26.2],\n",
       "       [31.5],\n",
       "       [32.3],\n",
       "       [21.7],\n",
       "       [20.5],\n",
       "       [19.5],\n",
       "       [20.2],\n",
       "       [ 6.1],\n",
       "       [22.9],\n",
       "       [24.6],\n",
       "       [28.6],\n",
       "       [19.8],\n",
       "       [12.5],\n",
       "       [36.8],\n",
       "       [19.7],\n",
       "       [32.5],\n",
       "       [19.3],\n",
       "       [19.8],\n",
       "       [ 8.7],\n",
       "       [29.5],\n",
       "       [19.3],\n",
       "       [24.7],\n",
       "       [12.5],\n",
       "       [24.6],\n",
       "       [12.3],\n",
       "       [12.3],\n",
       "       [19.8],\n",
       "       [23.4],\n",
       "       [21.2],\n",
       "       [18.9],\n",
       "       [28.3],\n",
       "       [16.5],\n",
       "       [29. ],\n",
       "       [10.3],\n",
       "       [11.1],\n",
       "       [25.5],\n",
       "       [28. ],\n",
       "       [28.5],\n",
       "       [13.4],\n",
       "       [26. ],\n",
       "       [32.9],\n",
       "       [32.8],\n",
       "       [32.2],\n",
       "       [24.8],\n",
       "       [15.1],\n",
       "       [23.5],\n",
       "       [35.3],\n",
       "       [16.4],\n",
       "       [20.6],\n",
       "       [21.4],\n",
       "       [27. ],\n",
       "       [22.7],\n",
       "       [33.3],\n",
       "       [ 9. ],\n",
       "       [26.9],\n",
       "       [21.4],\n",
       "       [22.1],\n",
       "       [29.2],\n",
       "       [16.2],\n",
       "       [35.4],\n",
       "       [11.2],\n",
       "       [16.6],\n",
       "       [30.4],\n",
       "       [13. ],\n",
       "       [19.9],\n",
       "       [21. ],\n",
       "       [23.6],\n",
       "       [16.6],\n",
       "       [30.7],\n",
       "       [ 9.9],\n",
       "       [31.6],\n",
       "       [25.5],\n",
       "       [25.3],\n",
       "       [26.9],\n",
       "       [21.5],\n",
       "       [24. ],\n",
       "       [10.5],\n",
       "       [ 5.9],\n",
       "       [16.2],\n",
       "       [24. ],\n",
       "       [ 9.8],\n",
       "       [24. ],\n",
       "       [10.1],\n",
       "       [22.4],\n",
       "       [27.4],\n",
       "       [20.3],\n",
       "       [23.2],\n",
       "       [15.8],\n",
       "       [27.6],\n",
       "       [18.8],\n",
       "       [22.7],\n",
       "       [18. ],\n",
       "       [13.2],\n",
       "       [24.9],\n",
       "       [18.7],\n",
       "       [25.9],\n",
       "       [26.3],\n",
       "       [13.4],\n",
       "       [21.6],\n",
       "       [27.2],\n",
       "       [27. ],\n",
       "       [38.2],\n",
       "       [ 4.3],\n",
       "       [ 9.5],\n",
       "       [20.2],\n",
       "       [19.8],\n",
       "       [19.2],\n",
       "       [19.2],\n",
       "       [36.2],\n",
       "       [23.5],\n",
       "       [30. ],\n",
       "       [32.1],\n",
       "       [29.8],\n",
       "       [11.2],\n",
       "       [23.4],\n",
       "       [27.8],\n",
       "       [15.1],\n",
       "       [ 6.4],\n",
       "       [14.3],\n",
       "       [25.5],\n",
       "       [24.8],\n",
       "       [16.4],\n",
       "       [18.2],\n",
       "       [18.6],\n",
       "       [32.4],\n",
       "       [ 7.6],\n",
       "       [31.5],\n",
       "       [28.4],\n",
       "       [17.7],\n",
       "       [21.8],\n",
       "       [18.5],\n",
       "       [32.5],\n",
       "       [17.4],\n",
       "       [21.1],\n",
       "       [23.6],\n",
       "       [30.8],\n",
       "       [22.7],\n",
       "       [28.9],\n",
       "       [ 9.7],\n",
       "       [18.6],\n",
       "       [ 5.4],\n",
       "       [35.5],\n",
       "       [24.8],\n",
       "       [24.7],\n",
       "       [28.5],\n",
       "       [25. ],\n",
       "       [25.5],\n",
       "       [22.3],\n",
       "       [24.8],\n",
       "       [22.5],\n",
       "       [35.1],\n",
       "       [33.8],\n",
       "       [22.6],\n",
       "       [28.5],\n",
       "       [23.5],\n",
       "       [26.1],\n",
       "       [28.9],\n",
       "       [22.2],\n",
       "       [26.4],\n",
       "       [25.1],\n",
       "       [26.5],\n",
       "       [22.2],\n",
       "       [15.6],\n",
       "       [17.7],\n",
       "       [28.8],\n",
       "       [27.6],\n",
       "       [27.2],\n",
       "       [10.5],\n",
       "       [17.6],\n",
       "       [24.6],\n",
       "       [38. ],\n",
       "       [17. ],\n",
       "       [ 7.8],\n",
       "       [ 5.9],\n",
       "       [26.9],\n",
       "       [24.5],\n",
       "       [22. ],\n",
       "       [30.1],\n",
       "       [21.3],\n",
       "       [32.5],\n",
       "       [17.1],\n",
       "       [33.4],\n",
       "       [23.5],\n",
       "       [19. ],\n",
       "       [12.3],\n",
       "       [25.2],\n",
       "       [27.1],\n",
       "       [25.8],\n",
       "       [22.4],\n",
       "       [25.2],\n",
       "       [22.2],\n",
       "       [28.3],\n",
       "       [21.8],\n",
       "       [15.2],\n",
       "       [25.4],\n",
       "       [18.5],\n",
       "       [22.9],\n",
       "       [14.4],\n",
       "       [ 7.3],\n",
       "       [25.3],\n",
       "       [21. ],\n",
       "       [19.8],\n",
       "       [42. ],\n",
       "       [28.7],\n",
       "       [29.3],\n",
       "       [15.9],\n",
       "       [20.9],\n",
       "       [30.5],\n",
       "       [24.9],\n",
       "       [19.9],\n",
       "       [22.2],\n",
       "       [34.1],\n",
       "       [ 9.6],\n",
       "       [25.6],\n",
       "       [19.1],\n",
       "       [23.1],\n",
       "       [ 8.1],\n",
       "       [29.8],\n",
       "       [12.2],\n",
       "       [35.1],\n",
       "       [25. ],\n",
       "       [38.2],\n",
       "       [19. ],\n",
       "       [18.8],\n",
       "       [ 7.3],\n",
       "       [12.8],\n",
       "       [24.6],\n",
       "       [39.8],\n",
       "       [30.3],\n",
       "       [24.5],\n",
       "       [20.3],\n",
       "       [20.3],\n",
       "       [14.9],\n",
       "       [28.8],\n",
       "       [29.8],\n",
       "       [26.4],\n",
       "       [ 6.8],\n",
       "       [23.3],\n",
       "       [24.4],\n",
       "       [25.8],\n",
       "       [21.7],\n",
       "       [26.2],\n",
       "       [21.7],\n",
       "       [18.9],\n",
       "       [ 0.3],\n",
       "       [19.7],\n",
       "       [20.2],\n",
       "       [24. ],\n",
       "       [29.3],\n",
       "       [34.9],\n",
       "       [11.2],\n",
       "       [26.2],\n",
       "       [39.9],\n",
       "       [20.5],\n",
       "       [17.9],\n",
       "       [18.4],\n",
       "       [10. ],\n",
       "       [25.1],\n",
       "       [12.1],\n",
       "       [37. ],\n",
       "       [14.8],\n",
       "       [ 7.2],\n",
       "       [38.1],\n",
       "       [27. ],\n",
       "       [12.5],\n",
       "       [10.2],\n",
       "       [17.6],\n",
       "       [12.1],\n",
       "       [30.5],\n",
       "       [ 7.4],\n",
       "       [22.7],\n",
       "       [28.1],\n",
       "       [33.6],\n",
       "       [24.3],\n",
       "       [38.7],\n",
       "       [ 0. ],\n",
       "       [24.4],\n",
       "       [26.2],\n",
       "       [ 5.4],\n",
       "       [18. ],\n",
       "       [31. ],\n",
       "       [29.8],\n",
       "       [32.7],\n",
       "       [21.2],\n",
       "       [18.6],\n",
       "       [14.6],\n",
       "       [41.8],\n",
       "       [27.2],\n",
       "       [20.1],\n",
       "       [20.6],\n",
       "       [27.6],\n",
       "       [30.3],\n",
       "       [21.7],\n",
       "       [20.1],\n",
       "       [17.3],\n",
       "       [17.2],\n",
       "       [35.5],\n",
       "       [19.2],\n",
       "       [19. ],\n",
       "       [26.2],\n",
       "       [20. ],\n",
       "       [27.8],\n",
       "       [21.1],\n",
       "       [25.4],\n",
       "       [24.2],\n",
       "       [27.6],\n",
       "       [ 8.8],\n",
       "       [27.6],\n",
       "       [16. ],\n",
       "       [17.2],\n",
       "       [28.8],\n",
       "       [17.2],\n",
       "       [ 8.8],\n",
       "       [31.1],\n",
       "       [19.3],\n",
       "       [27.2],\n",
       "       [30.1],\n",
       "       [45. ],\n",
       "       [19. ],\n",
       "       [15.2],\n",
       "       [21.9],\n",
       "       [29.6],\n",
       "       [19.3],\n",
       "       [29.9],\n",
       "       [21.7],\n",
       "       [25. ],\n",
       "       [31.2],\n",
       "       [34.7],\n",
       "       [21. ],\n",
       "       [37.2],\n",
       "       [26.4],\n",
       "       [35.4],\n",
       "       [24.5],\n",
       "       [38.7],\n",
       "       [29. ],\n",
       "       [12.2],\n",
       "       [11.6],\n",
       "       [17.5],\n",
       "       [20.9],\n",
       "       [40.4],\n",
       "       [26.6],\n",
       "       [39.6],\n",
       "       [22.4],\n",
       "       [ 9.4],\n",
       "       [19.5],\n",
       "       [22.3],\n",
       "       [18.9],\n",
       "       [21.8],\n",
       "       [18.2],\n",
       "       [14.9],\n",
       "       [28.9],\n",
       "       [25.4],\n",
       "       [18.6],\n",
       "       [22.5],\n",
       "       [30.1],\n",
       "       [17. ],\n",
       "       [27.3],\n",
       "       [ 4.9],\n",
       "       [23.5],\n",
       "       [12.4],\n",
       "       [32.7],\n",
       "       [16.8],\n",
       "       [27. ],\n",
       "       [23.9],\n",
       "       [34.5],\n",
       "       [23.1],\n",
       "       [15. ],\n",
       "       [25.2],\n",
       "       [22.3],\n",
       "       [32.9],\n",
       "       [12.6],\n",
       "       [22.4],\n",
       "       [29. ]])"
      ]
     },
     "execution_count": 32,
     "metadata": {},
     "output_type": "execute_result"
    }
   ],
   "source": [
    "x"
   ]
  },
  {
   "cell_type": "code",
   "execution_count": 162,
   "id": "db43c36a-770e-43ad-abb8-e354f36c142c",
   "metadata": {},
   "outputs": [
    {
     "data": {
      "text/plain": [
       "0       0\n",
       "1     200\n",
       "2     400\n",
       "3     600\n",
       "4     800\n",
       "5    1000\n",
       "Name: Revenue, dtype: int64"
      ]
     },
     "execution_count": 162,
     "metadata": {},
     "output_type": "execute_result"
    }
   ],
   "source": [
    "y"
   ]
  },
  {
   "cell_type": "code",
   "execution_count": 171,
   "id": "02afa3df-7db0-4159-8c37-1f89433739c6",
   "metadata": {},
   "outputs": [],
   "source": [
    "import numpy as np\n",
    "from sklearn.impute import SimpleImputer"
   ]
  },
  {
   "cell_type": "code",
   "execution_count": 173,
   "id": "fea11496-0fdc-4996-b90c-044418501496",
   "metadata": {},
   "outputs": [],
   "source": [
    "x = np.array([\n",
    "    [1, 2, np.nan],\n",
    "    [4, np.nan, 6],\n",
    "    [7, 8, 9]\n",
    "])"
   ]
  },
  {
   "cell_type": "code",
   "execution_count": 183,
   "id": "3e8c4bdf-b0ca-42d5-854d-6d5287586349",
   "metadata": {},
   "outputs": [
    {
     "name": "stdout",
     "output_type": "stream",
     "text": [
      "Imputed Dataset:\n",
      "[[1.  2.  7.5]\n",
      " [4.  5.  6. ]\n",
      " [7.  8.  9. ]]\n"
     ]
    }
   ],
   "source": [
    "imputer = SimpleImputer(missing_values=np.nan, strategy='mean')\n",
    "imputer.fit(x[:, 1:3])\n",
    "x[:, 1:3] = imputer.transform(x[:, 1:3])\n",
    "print(\"Imputed Dataset:\")\n",
    "print(x)"
   ]
  },
  {
   "cell_type": "code",
   "execution_count": 185,
   "id": "3f4583c2-011f-4f7d-b710-997295b322e3",
   "metadata": {},
   "outputs": [
    {
     "name": "stdout",
     "output_type": "stream",
     "text": [
      "   Color  Color_encoded\n",
      "0    Red              2\n",
      "1  Green              1\n",
      "2   Blue              0\n",
      "3  Green              1\n",
      "4    Red              2\n"
     ]
    }
   ],
   "source": [
    "from sklearn.preprocessing import LabelEncoder\n",
    "data = {'Color': ['Red', 'Green', 'Blue', 'Green', 'Red']}\n",
    "df = pd.DataFrame(data)\n",
    "label_encoder = LabelEncoder()\n",
    "df['Color_encoded'] = label_encoder.fit_transform(df['Color'])\n",
    "print(df)"
   ]
  },
  {
   "cell_type": "code",
   "execution_count": 187,
   "id": "fe482ffb-9779-481c-98d4-4a4adc4248d4",
   "metadata": {},
   "outputs": [
    {
     "name": "stdout",
     "output_type": "stream",
     "text": [
      "   Feature1  Feature2\n",
      "0      0.00      0.00\n",
      "1      0.25      0.25\n",
      "2      0.50      0.50\n",
      "3      0.75      0.75\n",
      "4      1.00      1.00\n"
     ]
    }
   ],
   "source": [
    "from sklearn.preprocessing import MinMaxScaler\n",
    "import pandas as pd\n",
    "data = {'Feature1': [1, 2, 3, 4, 5], 'Feature2': [10, 20, 30, 40, 50]}\n",
    "df = pd.DataFrame(data)\n",
    "scaler = MinMaxScaler()\n",
    "df_normalized = scaler.fit_transform(df)\n",
    "df_normalized = pd.DataFrame(df_normalized, columns=df.columns)\n",
    "print(df_normalized)"
   ]
  },
  {
   "cell_type": "code",
   "execution_count": 189,
   "id": "9ff5eab7-f452-41a7-a125-420418fd52ca",
   "metadata": {},
   "outputs": [
    {
     "name": "stdout",
     "output_type": "stream",
     "text": [
      "Cross-validation scores: [0.96666667 1.         0.93333333 0.96666667 1.        ]\n",
      "Average cross-validation score: 0.9733333333333334\n"
     ]
    }
   ],
   "source": [
    "from sklearn.model_selection import cross_val_score\n",
    "from sklearn.linear_model import LogisticRegression\n",
    "from sklearn.datasets import load_iris\n",
    "data = load_iris()\n",
    "X, y = data.data, data.target\n",
    "model = LogisticRegression(max_iter=200)\n",
    "cv_scores = cross_val_score(model, X, y, cv=5)\n",
    "print(f\"Cross-validation scores: {cv_scores}\")\n",
    "print(f\"Average cross-validation score: {cv_scores.mean()}\")"
   ]
  },
  {
   "cell_type": "code",
   "execution_count": 195,
   "id": "1984abf8-8d0a-43b2-b642-4ebc33c44563",
   "metadata": {},
   "outputs": [],
   "source": [
    "from sklearn.utils import resample\n",
    "from sklearn.datasets import load_iris\n",
    "from sklearn.tree import DecisionTreeClassifier\n",
    "from sklearn.metrics import accuracy_score\n",
    "import numpy as np\n",
    "data = load_iris()\n",
    "X, y = data.data, data.target\n",
    "model = DecisionTreeClassifier()\n",
    "n_iterations = 100\n",
    "oob_scores = []"
   ]
  },
  {
   "cell_type": "code",
   "execution_count": 7,
   "id": "3fbc0658-793b-41bf-9870-32cc606dfbaf",
   "metadata": {},
   "outputs": [
    {
     "ename": "NameError",
     "evalue": "name 'n_iterations' is not defined",
     "output_type": "error",
     "traceback": [
      "\u001b[0;31m---------------------------------------------------------------------------\u001b[0m",
      "\u001b[0;31mNameError\u001b[0m                                 Traceback (most recent call last)",
      "Cell \u001b[0;32mIn[7], line 1\u001b[0m\n\u001b[0;32m----> 1\u001b[0m \u001b[38;5;28;01mfor\u001b[39;00m _ \u001b[38;5;129;01min\u001b[39;00m \u001b[38;5;28mrange\u001b[39m(n_iterations):\n\u001b[1;32m      2\u001b[0m     X_resampled, y_resampled \u001b[38;5;241m=\u001b[39m resample(X, y, n_samples\u001b[38;5;241m=\u001b[39m\u001b[38;5;28mlen\u001b[39m(X), random_state\u001b[38;5;241m=\u001b[39m\u001b[38;5;28;01mNone\u001b[39;00m)\n\u001b[1;32m      3\u001b[0m     model\u001b[38;5;241m.\u001b[39mfit(X_resampled, y_resampled)\n",
      "\u001b[0;31mNameError\u001b[0m: name 'n_iterations' is not defined"
     ]
    }
   ],
   "source": [
    "for _ in range(n_iterations):\n",
    "    X_resampled, y_resampled = resample(X, y, n_samples=len(X), random_state=None)\n",
    "    model.fit(X_resampled, y_resampled)\n",
    "    oob_mask = ~np.isin(np.arange(len(X)), np.where(np.isin(X, X_resampled))[0])\n",
    "    X_oob, y_oob = X[oob_mask], y[oob_mask]\n",
    "if len(X_oob) > 0:  \n",
    "    y_pred = model.predict(X_oob)\n",
    "    score = accuracy_score(y_oob, y_pred)\n",
    "    oob_scores.append(score)\n",
    "    print(f\"Average out-of-bag accuracy: {np.mean(oob_scores)}\")"
   ]
  },
  {
   "cell_type": "code",
   "execution_count": 330,
   "id": "0da91874-8a40-42fb-8d97-292ebb35cbde",
   "metadata": {},
   "outputs": [],
   "source": []
  },
  {
   "cell_type": "code",
   "execution_count": 47,
   "id": "182bb6a3-f969-47ed-974b-a8d2177e5e04",
   "metadata": {},
   "outputs": [
    {
     "data": {
      "text/html": [
       "<style>#sk-container-id-1 {color: black;}#sk-container-id-1 pre{padding: 0;}#sk-container-id-1 div.sk-toggleable {background-color: white;}#sk-container-id-1 label.sk-toggleable__label {cursor: pointer;display: block;width: 100%;margin-bottom: 0;padding: 0.3em;box-sizing: border-box;text-align: center;}#sk-container-id-1 label.sk-toggleable__label-arrow:before {content: \"▸\";float: left;margin-right: 0.25em;color: #696969;}#sk-container-id-1 label.sk-toggleable__label-arrow:hover:before {color: black;}#sk-container-id-1 div.sk-estimator:hover label.sk-toggleable__label-arrow:before {color: black;}#sk-container-id-1 div.sk-toggleable__content {max-height: 0;max-width: 0;overflow: hidden;text-align: left;background-color: #f0f8ff;}#sk-container-id-1 div.sk-toggleable__content pre {margin: 0.2em;color: black;border-radius: 0.25em;background-color: #f0f8ff;}#sk-container-id-1 input.sk-toggleable__control:checked~div.sk-toggleable__content {max-height: 200px;max-width: 100%;overflow: auto;}#sk-container-id-1 input.sk-toggleable__control:checked~label.sk-toggleable__label-arrow:before {content: \"▾\";}#sk-container-id-1 div.sk-estimator input.sk-toggleable__control:checked~label.sk-toggleable__label {background-color: #d4ebff;}#sk-container-id-1 div.sk-label input.sk-toggleable__control:checked~label.sk-toggleable__label {background-color: #d4ebff;}#sk-container-id-1 input.sk-hidden--visually {border: 0;clip: rect(1px 1px 1px 1px);clip: rect(1px, 1px, 1px, 1px);height: 1px;margin: -1px;overflow: hidden;padding: 0;position: absolute;width: 1px;}#sk-container-id-1 div.sk-estimator {font-family: monospace;background-color: #f0f8ff;border: 1px dotted black;border-radius: 0.25em;box-sizing: border-box;margin-bottom: 0.5em;}#sk-container-id-1 div.sk-estimator:hover {background-color: #d4ebff;}#sk-container-id-1 div.sk-parallel-item::after {content: \"\";width: 100%;border-bottom: 1px solid gray;flex-grow: 1;}#sk-container-id-1 div.sk-label:hover label.sk-toggleable__label {background-color: #d4ebff;}#sk-container-id-1 div.sk-serial::before {content: \"\";position: absolute;border-left: 1px solid gray;box-sizing: border-box;top: 0;bottom: 0;left: 50%;z-index: 0;}#sk-container-id-1 div.sk-serial {display: flex;flex-direction: column;align-items: center;background-color: white;padding-right: 0.2em;padding-left: 0.2em;position: relative;}#sk-container-id-1 div.sk-item {position: relative;z-index: 1;}#sk-container-id-1 div.sk-parallel {display: flex;align-items: stretch;justify-content: center;background-color: white;position: relative;}#sk-container-id-1 div.sk-item::before, #sk-container-id-1 div.sk-parallel-item::before {content: \"\";position: absolute;border-left: 1px solid gray;box-sizing: border-box;top: 0;bottom: 0;left: 50%;z-index: -1;}#sk-container-id-1 div.sk-parallel-item {display: flex;flex-direction: column;z-index: 1;position: relative;background-color: white;}#sk-container-id-1 div.sk-parallel-item:first-child::after {align-self: flex-end;width: 50%;}#sk-container-id-1 div.sk-parallel-item:last-child::after {align-self: flex-start;width: 50%;}#sk-container-id-1 div.sk-parallel-item:only-child::after {width: 0;}#sk-container-id-1 div.sk-dashed-wrapped {border: 1px dashed gray;margin: 0 0.4em 0.5em 0.4em;box-sizing: border-box;padding-bottom: 0.4em;background-color: white;}#sk-container-id-1 div.sk-label label {font-family: monospace;font-weight: bold;display: inline-block;line-height: 1.2em;}#sk-container-id-1 div.sk-label-container {text-align: center;}#sk-container-id-1 div.sk-container {/* jupyter's `normalize.less` sets `[hidden] { display: none; }` but bootstrap.min.css set `[hidden] { display: none !important; }` so we also need the `!important` here to be able to override the default hidden behavior on the sphinx rendered scikit-learn.org. See: https://github.com/scikit-learn/scikit-learn/issues/21755 */display: inline-block !important;position: relative;}#sk-container-id-1 div.sk-text-repr-fallback {display: none;}</style><div id=\"sk-container-id-1\" class=\"sk-top-container\"><div class=\"sk-text-repr-fallback\"><pre>LinearRegression()</pre><b>In a Jupyter environment, please rerun this cell to show the HTML representation or trust the notebook. <br />On GitHub, the HTML representation is unable to render, please try loading this page with nbviewer.org.</b></div><div class=\"sk-container\" hidden><div class=\"sk-item\"><div class=\"sk-estimator sk-toggleable\"><input class=\"sk-toggleable__control sk-hidden--visually\" id=\"sk-estimator-id-1\" type=\"checkbox\" checked><label for=\"sk-estimator-id-1\" class=\"sk-toggleable__label sk-toggleable__label-arrow\">LinearRegression</label><div class=\"sk-toggleable__content\"><pre>LinearRegression()</pre></div></div></div></div></div>"
      ],
      "text/plain": [
       "LinearRegression()"
      ]
     },
     "execution_count": 47,
     "metadata": {},
     "output_type": "execute_result"
    }
   ],
   "source": [
    "from sklearn.linear_model import LinearRegression\n",
    "regressor = LinearRegression()\n",
    "regressor.fit(x_train, y_train)"
   ]
  },
  {
   "cell_type": "code",
   "execution_count": 57,
   "id": "e179d94e-8133-4cae-8df4-3dd5cb24462d",
   "metadata": {},
   "outputs": [
    {
     "data": {
      "text/plain": [
       "array([698.37193638, 653.48093706, 664.16927023, 452.54027346,\n",
       "       666.30693687, 441.85194029, 585.07560477, 623.55360418,\n",
       "       666.30693687, 469.64160653, 546.59760536, 443.98960692,\n",
       "       623.55360418, 379.8596079 , 369.17127473, 944.20359929,\n",
       "       892.89960008, 694.09660311, 546.59760536, 422.61294058,\n",
       "       392.68560771, 597.90160458, 285.802276  , 655.6186037 ,\n",
       "       381.99727454, 414.06227405, 373.446608  , 510.25727258,\n",
       "       480.3299397 , 456.81560673, 640.65493726, 283.66460937,\n",
       "       315.72960888, 471.77927317, 559.42360516, 540.18460546,\n",
       "       309.31660898, 510.25727258, 572.24960497, 732.57460252,\n",
       "       441.85194029, 495.29360614, 567.9742717 , 446.12727356,\n",
       "       912.13859978, 604.31460448, 542.32227209, 202.43327728,\n",
       "       694.09660311, 352.06994166, 191.7449441 , 576.52493823,\n",
       "       219.53461035, 469.64160653, 463.22860663, 450.40260683,\n",
       "       495.29360614, 800.97993481, 332.83094195, 540.18460546,\n",
       "       662.0316036 , 527.35860565, 362.75827483, 452.54027346,\n",
       "       621.41593755, 258.01260976, 292.21527591, 525.22093902,\n",
       "       655.6186037 , 662.0316036 , 741.12526906, 187.46961084,\n",
       "       593.62627131, 151.12927806, 486.7429396 , 610.72760438,\n",
       "       664.16927023, 473.9169398 , 783.87860174, 422.61294058,\n",
       "       172.5059444 , 820.21893452, 435.43894039, 328.55560868,\n",
       "       659.89393696, 587.21327141, 416.19994068, 651.34327043,\n",
       "       862.9722672 , 268.70094293, 578.66260487,  46.38361299,\n",
       "       899.31259998, 621.41593755, 758.22660213, 467.5039399 ,\n",
       "       758.22660213, 711.19793618, 396.96094097, 559.42360516,\n",
       "       379.8596079 , 471.77927317, 642.79260389, 512.39493921,\n",
       "       341.38160849, 358.48294156, 724.02393598, 548.73527199,\n",
       "       213.12161045, 499.56893941, 580.8002715 , 706.92260291,\n",
       "       657.75627033,  67.76027933, 294.35294254, 636.37960399,\n",
       "       672.71993677, 520.94560575, 525.22093902, 401.23627424,\n",
       "       589.35093804, 715.47326945, 176.78127767, 567.9742717 ,\n",
       "       939.92826602, 683.40826994, 354.20760829, 431.16360712,\n",
       "       313.59194225, 443.98960692, 548.73527199, 138.30327825,\n",
       "       858.69693393, 632.10427072, 627.82893745, 557.28593853,\n",
       "       803.11760144, 610.72760438, 713.33560281, 803.11760144,\n",
       "       401.23627424, 659.89393696, 563.69893843, 381.99727454,\n",
       "       405.51160751, 294.35294254, 651.34327043, 672.71993677,\n",
       "       352.06994166, 354.20760829])"
      ]
     },
     "execution_count": 57,
     "metadata": {},
     "output_type": "execute_result"
    }
   ],
   "source": [
    "y_pred = regressor.predict(x_test)\n",
    "y_pred"
   ]
  },
  {
   "cell_type": "code",
   "execution_count": 65,
   "id": "e123fb32-3d1e-4cf6-9228-013e800dd162",
   "metadata": {},
   "outputs": [
    {
     "data": {
      "text/plain": [
       "array([705, 633, 663, 450, 637, 470, 588, 582, 676, 494, 507, 428, 645,\n",
       "       351, 367, 966, 899, 649, 587, 406, 396, 573, 289, 644, 397, 413,\n",
       "       354, 479, 475, 464, 655, 307, 320, 472, 560, 553, 336, 538, 595,\n",
       "       676, 464, 501, 573, 473, 919, 626, 507, 224, 680, 323, 200, 541,\n",
       "       250, 457, 449, 468, 490, 810, 269, 537, 652, 536, 323, 451, 600,\n",
       "       259, 326, 490, 652, 654, 740, 196, 580, 189, 478, 610, 642, 469,\n",
       "       810, 413, 171, 825, 454, 333, 690, 564, 406, 626, 857, 220, 564,\n",
       "        10, 876, 616, 783, 507, 750, 685, 382, 604, 363, 417, 628, 531,\n",
       "       309, 324, 734, 554, 199, 498, 608, 697, 657,  56, 258, 635, 698,\n",
       "       513, 494, 415, 604, 698, 159, 595, 970, 696, 352, 442, 284, 444,\n",
       "       502, 119, 858, 624, 643, 585, 805, 647, 747, 797, 402, 667, 587,\n",
       "       403, 380, 317, 640, 679, 335, 368])"
      ]
     },
     "execution_count": 65,
     "metadata": {},
     "output_type": "execute_result"
    }
   ],
   "source": [
    "y_test"
   ]
  },
  {
   "cell_type": "code",
   "execution_count": 107,
   "id": "f20b61fd-a34e-4ea8-9167-20c29853fe3b",
   "metadata": {},
   "outputs": [
    {
     "data": {
      "text/html": [
       "<style>#sk-container-id-2 {color: black;}#sk-container-id-2 pre{padding: 0;}#sk-container-id-2 div.sk-toggleable {background-color: white;}#sk-container-id-2 label.sk-toggleable__label {cursor: pointer;display: block;width: 100%;margin-bottom: 0;padding: 0.3em;box-sizing: border-box;text-align: center;}#sk-container-id-2 label.sk-toggleable__label-arrow:before {content: \"▸\";float: left;margin-right: 0.25em;color: #696969;}#sk-container-id-2 label.sk-toggleable__label-arrow:hover:before {color: black;}#sk-container-id-2 div.sk-estimator:hover label.sk-toggleable__label-arrow:before {color: black;}#sk-container-id-2 div.sk-toggleable__content {max-height: 0;max-width: 0;overflow: hidden;text-align: left;background-color: #f0f8ff;}#sk-container-id-2 div.sk-toggleable__content pre {margin: 0.2em;color: black;border-radius: 0.25em;background-color: #f0f8ff;}#sk-container-id-2 input.sk-toggleable__control:checked~div.sk-toggleable__content {max-height: 200px;max-width: 100%;overflow: auto;}#sk-container-id-2 input.sk-toggleable__control:checked~label.sk-toggleable__label-arrow:before {content: \"▾\";}#sk-container-id-2 div.sk-estimator input.sk-toggleable__control:checked~label.sk-toggleable__label {background-color: #d4ebff;}#sk-container-id-2 div.sk-label input.sk-toggleable__control:checked~label.sk-toggleable__label {background-color: #d4ebff;}#sk-container-id-2 input.sk-hidden--visually {border: 0;clip: rect(1px 1px 1px 1px);clip: rect(1px, 1px, 1px, 1px);height: 1px;margin: -1px;overflow: hidden;padding: 0;position: absolute;width: 1px;}#sk-container-id-2 div.sk-estimator {font-family: monospace;background-color: #f0f8ff;border: 1px dotted black;border-radius: 0.25em;box-sizing: border-box;margin-bottom: 0.5em;}#sk-container-id-2 div.sk-estimator:hover {background-color: #d4ebff;}#sk-container-id-2 div.sk-parallel-item::after {content: \"\";width: 100%;border-bottom: 1px solid gray;flex-grow: 1;}#sk-container-id-2 div.sk-label:hover label.sk-toggleable__label {background-color: #d4ebff;}#sk-container-id-2 div.sk-serial::before {content: \"\";position: absolute;border-left: 1px solid gray;box-sizing: border-box;top: 0;bottom: 0;left: 50%;z-index: 0;}#sk-container-id-2 div.sk-serial {display: flex;flex-direction: column;align-items: center;background-color: white;padding-right: 0.2em;padding-left: 0.2em;position: relative;}#sk-container-id-2 div.sk-item {position: relative;z-index: 1;}#sk-container-id-2 div.sk-parallel {display: flex;align-items: stretch;justify-content: center;background-color: white;position: relative;}#sk-container-id-2 div.sk-item::before, #sk-container-id-2 div.sk-parallel-item::before {content: \"\";position: absolute;border-left: 1px solid gray;box-sizing: border-box;top: 0;bottom: 0;left: 50%;z-index: -1;}#sk-container-id-2 div.sk-parallel-item {display: flex;flex-direction: column;z-index: 1;position: relative;background-color: white;}#sk-container-id-2 div.sk-parallel-item:first-child::after {align-self: flex-end;width: 50%;}#sk-container-id-2 div.sk-parallel-item:last-child::after {align-self: flex-start;width: 50%;}#sk-container-id-2 div.sk-parallel-item:only-child::after {width: 0;}#sk-container-id-2 div.sk-dashed-wrapped {border: 1px dashed gray;margin: 0 0.4em 0.5em 0.4em;box-sizing: border-box;padding-bottom: 0.4em;background-color: white;}#sk-container-id-2 div.sk-label label {font-family: monospace;font-weight: bold;display: inline-block;line-height: 1.2em;}#sk-container-id-2 div.sk-label-container {text-align: center;}#sk-container-id-2 div.sk-container {/* jupyter's `normalize.less` sets `[hidden] { display: none; }` but bootstrap.min.css set `[hidden] { display: none !important; }` so we also need the `!important` here to be able to override the default hidden behavior on the sphinx rendered scikit-learn.org. See: https://github.com/scikit-learn/scikit-learn/issues/21755 */display: inline-block !important;position: relative;}#sk-container-id-2 div.sk-text-repr-fallback {display: none;}</style><div id=\"sk-container-id-2\" class=\"sk-top-container\"><div class=\"sk-text-repr-fallback\"><pre>LinearRegression()</pre><b>In a Jupyter environment, please rerun this cell to show the HTML representation or trust the notebook. <br />On GitHub, the HTML representation is unable to render, please try loading this page with nbviewer.org.</b></div><div class=\"sk-container\" hidden><div class=\"sk-item\"><div class=\"sk-estimator sk-toggleable\"><input class=\"sk-toggleable__control sk-hidden--visually\" id=\"sk-estimator-id-2\" type=\"checkbox\" checked><label for=\"sk-estimator-id-2\" class=\"sk-toggleable__label sk-toggleable__label-arrow\">LinearRegression</label><div class=\"sk-toggleable__content\"><pre>LinearRegression()</pre></div></div></div></div></div>"
      ],
      "text/plain": [
       "LinearRegression()"
      ]
     },
     "execution_count": 107,
     "metadata": {},
     "output_type": "execute_result"
    }
   ],
   "source": [
    "from sklearn.linear_model import LinearRegression\n",
    "regressor = LinearRegression()\n",
    "regressor.fit(x_train, y_train)"
   ]
  },
  {
   "cell_type": "code",
   "execution_count": 105,
   "id": "b2fd90a8-996f-40c8-b9cd-179d471f9c6d",
   "metadata": {},
   "outputs": [
    {
     "data": {
      "image/png": "[encoded data removed]",
      "text/plain": [
       "<Figure size 640x480 with 1 Axes>"
      ]
     },
     "metadata": {},
     "output_type": "display_data"
    }
   ],
   "source": [
    "import matplotlib.pyplot as plt\n",
    "plt.scatter(x_train, y_train, color='red', s=18)\n",
    "plt.plot(x_train,regressor.predict(x_train), color='blue')\n",
    "plt.title(\"Revenue vs Temperature\")\n",
    "plt.xlabel(\"Temperature\")\n",
    "plt.ylabel(\"Revenue\")\n",
    "plt.show()"
   ]
  },
  {
   "cell_type": "code",
   "execution_count": 133,
   "id": "205a56a3-9f6f-4b71-a00d-5802cf21483d",
   "metadata": {},
   "outputs": [],
   "source": [
    "import statsmodels.api as sm\n",
    "import numpy as np\n",
    "import pandas as pd"
   ]
  },
  {
   "cell_type": "code",
   "execution_count": 135,
   "id": "d429e650-44ea-4edd-8a6d-fa66fe4a872c",
   "metadata": {},
   "outputs": [],
   "source": [
    "data = {\n",
    "    \"Temperature\": [0, 10, 20, 30, 40, 50],\n",
    "    \"Revenue\": [0, 200, 400, 600, 800, 1000]\n",
    "}\n",
    "df = pd.DataFrame(data)"
   ]
  },
  {
   "cell_type": "code",
   "execution_count": 149,
   "id": "2ecea2a2-adde-404e-990a-7d3dd0a2185b",
   "metadata": {},
   "outputs": [],
   "source": [
    "X = df[\"Temperature\"]\n",
    "y = df[\"Revenue\"]"
   ]
  },
  {
   "cell_type": "code",
   "execution_count": 151,
   "id": "d1390bb4-2019-4f58-a1d2-e1551fbe4292",
   "metadata": {},
   "outputs": [],
   "source": [
    "X = sm.add_constant(X)"
   ]
  },
  {
   "cell_type": "code",
   "execution_count": 153,
   "id": "d55cb211-ed88-4e14-b4ae-0c46a09a3460",
   "metadata": {},
   "outputs": [],
   "source": [
    "model = sm.OLS(y, X)\n",
    "results = model.fit()"
   ]
  },
  {
   "cell_type": "code",
   "execution_count": 157,
   "id": "641f1b49-6b72-4a02-a557-715120416d13",
   "metadata": {},
   "outputs": [
    {
     "name": "stdout",
     "output_type": "stream",
     "text": [
      "                            OLS Regression Results                            \n",
      "==============================================================================\n",
      "Dep. Variable:                Revenue   R-squared:                       1.000\n",
      "Model:                            OLS   Adj. R-squared:                  1.000\n",
      "Method:                 Least Squares   F-statistic:                 9.368e+31\n",
      "Date:                Fri, 20 Dec 2024   Prob (F-statistic):           6.84e-64\n",
      "Time:                        06:27:54   Log-Likelihood:                 173.18\n",
      "No. Observations:                   6   AIC:                            -342.4\n",
      "Df Residuals:                       4   BIC:                            -342.8\n",
      "Df Model:                           1                                         \n",
      "Covariance Type:            nonrobust                                         \n",
      "===============================================================================\n",
      "                  coef    std err          t      P>|t|      [0.025      0.975]\n",
      "-------------------------------------------------------------------------------\n",
      "const        5.684e-14   6.26e-14      0.909      0.415   -1.17e-13    2.31e-13\n",
      "Temperature    20.0000   2.07e-15   9.68e+15      0.000      20.000      20.000\n",
      "==============================================================================\n",
      "Omnibus:                          nan   Durbin-Watson:                   0.486\n",
      "Prob(Omnibus):                    nan   Jarque-Bera (JB):                0.718\n",
      "Skew:                           0.435   Prob(JB):                        0.698\n",
      "Kurtosis:                       1.546   Cond. No.                         53.7\n",
      "==============================================================================\n",
      "\n",
      "Notes:\n",
      "[1] Standard Errors assume that the covariance matrix of the errors is correctly specified.\n"
     ]
    },
    {
     "name": "stderr",
     "output_type": "stream",
     "text": [
      "/opt/conda/envs/anaconda-panel-2023.05-py310/lib/python3.11/site-packages/statsmodels/stats/stattools.py:74: ValueWarning: omni_normtest is not valid with less than 8 observations; 6 samples were given.\n",
      "  warn(\"omni_normtest is not valid with less than 8 observations; %i \"\n"
     ]
    }
   ],
   "source": [
    "print(results.summary())"
   ]
  },
  {
   "cell_type": "code",
   "execution_count": 159,
   "id": "6fbb5e75-4443-4719-80ee-6aed3e80f8a8",
   "metadata": {},
   "outputs": [
    {
     "name": "stdout",
     "output_type": "stream",
     "text": [
      "\n",
      "Predicted Values:\n",
      "0    5.684342e-14\n",
      "1    2.000000e+02\n",
      "2    4.000000e+02\n",
      "3    6.000000e+02\n",
      "4    8.000000e+02\n",
      "5    1.000000e+03\n",
      "dtype: float64\n"
     ]
    }
   ],
   "source": [
    "predicted_values = results.predict(X)\n",
    "print(\"\\nPredicted Values:\")\n",
    "print(predicted_values)"
   ]
  },
  {
   "cell_type": "code",
   "execution_count": 109,
   "id": "d71dc1b3-ef40-48fc-afba-2efaa314f45c",
   "metadata": {},
   "outputs": [
    {
     "data": {
      "image/png": "[encoded data removed]",
      "text/plain": [
       "<Figure size 640x480 with 1 Axes>"
      ]
     },
     "metadata": {},
     "output_type": "display_data"
    }
   ],
   "source": [
    "plt.scatter(x_test, y_test, color='red', s=18)\n",
    "plt.plot(x_test,regressor.predict(x_test), color='blue')\n",
    "plt.title(\"Revenue vs Temperature\")\n",
    "plt.xlabel(\"Temperature\")\n",
    "plt.ylabel(\"Revenue\")\n",
    "plt.show()"
   ]
  },
  {
   "cell_type": "code",
   "execution_count": 113,
   "id": "9319a4ac-3ba8-4392-8777-25737f0a64b9",
   "metadata": {},
   "outputs": [],
   "source": [
    "import statsmodels.api as sm\n",
    "import numpy as np\n",
    "import pandas as pd"
   ]
  },
  {
   "cell_type": "code",
   "execution_count": 121,
   "id": "af935261-c2a5-4931-ac74-3bd12b13ed93",
   "metadata": {},
   "outputs": [],
   "source": [
    "data = {\n",
    "    \"Temperature\": [0, 10, 20, 30, 40, 50],\n",
    "    \"Revenue\": [0, 200, 400, 600, 800, 1000]\n",
    "}\n",
    "df = pd.DataFrame(data)"
   ]
  },
  {
   "cell_type": "code",
   "execution_count": 145,
   "id": "6e3da462-868d-4049-839e-398b01f37279",
   "metadata": {},
   "outputs": [],
   "source": [
    "X = df[\"Temperature\"]\n",
    "y = df[\"Revenue\"]"
   ]
  },
  {
   "cell_type": "code",
   "execution_count": 125,
   "id": "fe2cf198-a047-4245-ab44-c5b812c70e5b",
   "metadata": {},
   "outputs": [],
   "source": [
    "X = sm.add_constant(X)"
   ]
  },
  {
   "cell_type": "code",
   "execution_count": 127,
   "id": "19ddf472-dbc2-49a6-8a28-8382268c4d14",
   "metadata": {},
   "outputs": [],
   "source": [
    "model = sm.OLS(y, X)\n",
    "results = model.fit()"
   ]
  },
  {
   "cell_type": "code",
   "execution_count": 129,
   "id": "20b5fb7a-938c-4da2-872f-54faf74b1f63",
   "metadata": {},
   "outputs": [
    {
     "name": "stdout",
     "output_type": "stream",
     "text": [
      "                            OLS Regression Results                            \n",
      "==============================================================================\n",
      "Dep. Variable:                Revenue   R-squared:                       1.000\n",
      "Model:                            OLS   Adj. R-squared:                  1.000\n",
      "Method:                 Least Squares   F-statistic:                 9.368e+31\n",
      "Date:                Fri, 20 Dec 2024   Prob (F-statistic):           6.84e-64\n",
      "Time:                        06:14:21   Log-Likelihood:                 173.18\n",
      "No. Observations:                   6   AIC:                            -342.4\n",
      "Df Residuals:                       4   BIC:                            -342.8\n",
      "Df Model:                           1                                         \n",
      "Covariance Type:            nonrobust                                         \n",
      "===============================================================================\n",
      "                  coef    std err          t      P>|t|      [0.025      0.975]\n",
      "-------------------------------------------------------------------------------\n",
      "const        5.684e-14   6.26e-14      0.909      0.415   -1.17e-13    2.31e-13\n",
      "Temperature    20.0000   2.07e-15   9.68e+15      0.000      20.000      20.000\n",
      "==============================================================================\n",
      "Omnibus:                          nan   Durbin-Watson:                   0.486\n",
      "Prob(Omnibus):                    nan   Jarque-Bera (JB):                0.718\n",
      "Skew:                           0.435   Prob(JB):                        0.698\n",
      "Kurtosis:                       1.546   Cond. No.                         53.7\n",
      "==============================================================================\n",
      "\n",
      "Notes:\n",
      "[1] Standard Errors assume that the covariance matrix of the errors is correctly specified.\n"
     ]
    },
    {
     "name": "stderr",
     "output_type": "stream",
     "text": [
      "/opt/conda/envs/anaconda-panel-2023.05-py310/lib/python3.11/site-packages/statsmodels/stats/stattools.py:74: ValueWarning: omni_normtest is not valid with less than 8 observations; 6 samples were given.\n",
      "  warn(\"omni_normtest is not valid with less than 8 observations; %i \"\n"
     ]
    }
   ],
   "source": [
    "print(results.summary())"
   ]
  },
  {
   "cell_type": "code",
   "execution_count": 131,
   "id": "67a35760-4d25-43ee-9f16-38902b0bfe86",
   "metadata": {},
   "outputs": [
    {
     "name": "stdout",
     "output_type": "stream",
     "text": [
      "\n",
      "Predicted Values:\n",
      "0    5.684342e-14\n",
      "1    2.000000e+02\n",
      "2    4.000000e+02\n",
      "3    6.000000e+02\n",
      "4    8.000000e+02\n",
      "5    1.000000e+03\n",
      "dtype: float64\n"
     ]
    }
   ],
   "source": [
    "predicted_values = results.predict(X)\n",
    "print(\"\\nPredicted Values:\")\n",
    "print(predicted_values)"
   ]
  }
 ],
 "metadata": {
  "kernelspec": {
   "display_name": "anaconda-panel-2023.05-py310",
   "language": "python",
   "name": "conda-env-anaconda-panel-2023.05-py310-py"
  },
  "language_info": {
   "codemirror_mode": {
    "name": "ipython",
    "version": 3
   },
   "file_extension": ".py",
   "mimetype": "text/x-python",
   "name": "python",
   "nbconvert_exporter": "python",
   "pygments_lexer": "ipython3",
   "version": "3.11.5"
  }
 },
 "nbformat": 4,
 "nbformat_minor": 5
}
